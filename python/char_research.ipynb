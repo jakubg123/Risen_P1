{
 "cells": [
  {
   "cell_type": "code",
   "execution_count": null,
   "id": "68f71d38-abe8-4dcf-9bc0-8a82a52671bd",
   "metadata": {},
   "outputs": [],
   "source": [
    "import os\n"
   ]
  },
  {
   "cell_type": "code",
   "execution_count": null,
   "id": "bfc04275-17f3-4e71-99bf-56992766054d",
   "metadata": {},
   "outputs": [],
   "source": [
    "path = '/home/jakubg/Desktop/test/infos'\n",
    "\n",
    "dictionary = {}\n",
    "\n",
    "set_list = [set() for _ in range(5)]\n",
    "print(set_list)\n",
    "names = []\n",
    "for directory in os.listdir(path):\n",
    "    new_path = os.path.join(path,directory)\n",
    "    for line in os.listdir(new_path):\n",
    "        line_path = os.path.join(new_path,line)\n",
    "        if os.path.isdir(line_path):\n",
    "            for file in os.listdir(line_path): \n",
    "                underscore_count = file.count('_')\n",
    "                # if underscore_count == 10:\n",
    "                #     print(file)\n",
    "                \n",
    "                names.append(file)    \n",
    "                if underscore_count in dictionary:\n",
    "                    dictionary[underscore_count] +=1\n",
    "                else:\n",
    "                    dictionary[underscore_count] = 1\n",
    "\n",
    "                    \n",
    "        else:\n",
    "            names.append(line)\n",
    "            underscore_count = line.count('_')\n",
    "            if underscore_count in dictionary:\n",
    "                dictionary[underscore_count] += 1\n",
    "            else:\n",
    "                dictionary[underscore_count] = 1\n",
    "\n",
    "print(len(names))"
   ]
  },
  {
   "cell_type": "code",
   "execution_count": null,
   "id": "381103f1-b910-4dc8-8710-9f9919eded21",
   "metadata": {
    "scrolled": true
   },
   "outputs": [],
   "source": [
    "names_dict = {}\n",
    "\n",
    "for item in names:\n",
    "    part = item.split('_')\n",
    "    name = '_'.join(part [6:])\n",
    "    names_dict[name] = names_dict.get(name, 0)  + 1\n",
    "\n",
    "sorted_names_dict = dict(sorted(names_dict.items(), key=lambda item: item[1], reverse=True))\n",
    "\n",
    "for key, value in sorted_names_dict.items():\n",
    "    print(f\"{key}, {value}\")"
   ]
  },
  {
   "cell_type": "code",
   "execution_count": null,
   "id": "7111fd8d-8584-4c27-82b6-560649cd092f",
   "metadata": {},
   "outputs": [],
   "source": [
    "women_list = []\n",
    "for name in names:\n",
    "    part = name.split('_')\n",
    "    condition = \"Sara\" in name or \"Patty\" in name or \"Rachel\" in name\n",
    "    if condition:\n",
    "        women_list.append('_'.join(part[6:]))\n",
    "unique_women_list = set(women_list)\n",
    "print(unique_women_list)"
   ]
  },
  {
   "cell_type": "code",
   "execution_count": null,
   "id": "99577cb5-9a29-40b0-8540-b748b16b6659",
   "metadata": {},
   "outputs": [],
   "source": [
    "# 6 ostatni ,7 dwa ostatnie,8 3 ostatnie,9 4 ostatnie ,10 5 ostatnich\n",
    "\n",
    "\n",
    "for item in names:\n",
    "    underscore_count = item.count('_')\n",
    "    part = item.split('_')\n",
    "    if underscore_count == 6:\n",
    "        set_list[0].add(part[6])\n",
    "    elif underscore_count ==7:\n",
    "        uc = '_'.join(part[6:])\n",
    "        set_list[1].add(uc)\n",
    "    elif underscore_count == 8:\n",
    "        uc = '_'.join(part[6:])\n",
    "        set_list[2].add(uc)\n",
    "    elif underscore_count == 9:\n",
    "        uc= '_'.join(part[6:])\n",
    "        set_list[3].add(uc)\n",
    "    else:\n",
    "        uc = '_'.join(part[6:])\n",
    "        set_list[4].add(uc)\n",
    "\n",
    "sum = 0\n",
    "for set in set_list:\n",
    "    sum+=len(set)\n",
    "print(sum)"
   ]
  },
  {
   "cell_type": "code",
   "execution_count": null,
   "id": "91dd0eb8-abdb-4275-971b-0a4ab7ef9346",
   "metadata": {},
   "outputs": [],
   "source": [
    "unique_list = [item for set in set_list for item in set]"
   ]
  },
  {
   "cell_type": "code",
   "execution_count": null,
   "id": "60792e31-333c-4296-bb6f-71fcdfd9f32a",
   "metadata": {
    "scrolled": true
   },
   "outputs": [],
   "source": [
    "for set in set_list:\n",
    "    print(set)"
   ]
  },
  {
   "cell_type": "code",
   "execution_count": null,
   "id": "7adb390d-37a3-47da-bed7-56f6fdd52719",
   "metadata": {},
   "outputs": [],
   "source": [
    "# Generalne postacie wykorzystane do podlozenia glosow w angielskiej wersji, chyba nie potrzebuje wiecej modeli,\n",
    "# moze nie ma sensu robic tego tak jak na gorze ?\n",
    "svm = '/home/jakubg/Desktop/test/SVM'\n",
    "character = []\n",
    "for char in os.listdir(svm):\n",
    "    character.append(char)\n",
    "print(character)"
   ]
  },
  {
   "cell_type": "code",
   "execution_count": null,
   "id": "aa0ffff7-24be-41c5-b394-ba97c3dad105",
   "metadata": {},
   "outputs": [],
   "source": [
    "# moze 30 modeli EL ? A potem mniejszy podzial ?"
   ]
  },
  {
   "cell_type": "code",
   "execution_count": null,
   "id": "e099f592-0b18-4ddb-bc1c-03ec131034a4",
   "metadata": {},
   "outputs": [],
   "source": [
    "new_dict = {char: 0 for char in character}\n",
    "print(new_dict)"
   ]
  },
  {
   "cell_type": "code",
   "execution_count": null,
   "id": "5632076f-5b0f-4d06-bd26-2cd355f515e9",
   "metadata": {},
   "outputs": [],
   "source": [
    "for name in names:\n",
    "    for key in new_dict:\n",
    "        if key in name:\n",
    "            new_dict[key] += 1\n",
    "print(new_dict)"
   ]
  },
  {
   "cell_type": "code",
   "execution_count": null,
   "id": "0916aa4a-f7d7-4b66-a023-9fc0adb82955",
   "metadata": {},
   "outputs": [],
   "source": [
    "sorted_keys = sorted(new_dict.items(), key=lambda x: x[1], reverse=True)\n",
    "\n",
    "for key,_ in sorted_keys:\n",
    "    print(key)"
   ]
  }
 ],
 "metadata": {
  "kernelspec": {
   "display_name": "elevenlabs",
   "language": "python",
   "name": "elevenlabs"
  },
  "language_info": {
   "codemirror_mode": {
    "name": "ipython",
    "version": 3
   },
   "file_extension": ".py",
   "mimetype": "text/x-python",
   "name": "python",
   "nbconvert_exporter": "python",
   "pygments_lexer": "ipython3",
   "version": "3.10.12"
  }
 },
 "nbformat": 4,
 "nbformat_minor": 5
}
