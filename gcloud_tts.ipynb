{
 "cells": [
  {
   "cell_type": "code",
   "execution_count": 2,
   "id": "3228ccd2-fba3-4a30-98ae-36b035b01e13",
   "metadata": {},
   "outputs": [],
   "source": [
    "import os\n",
    "from google.cloud import texttospeech\n",
    "from google.cloud import texttospeech_v1\n",
    "os.environ['GOOGLE_APPLICATION_CREDITENTIALS'] = 'cloud.json'\n",
    "client = texttospeech.TextToSpeechClient()"
   ]
  },
  {
   "cell_type": "code",
   "execution_count": 5,
   "id": "115f3409-bc69-4cfe-a00a-51e5c0b59279",
   "metadata": {},
   "outputs": [],
   "source": [
    "path = \"/home/jakubg/Desktop/test/infos\"\n",
    "output_path = \"/home/jakubg/testy\"\n",
    "male_actors = []\n",
    "female_actors = []\n",
    "\n",
    "voice = texttospeech.VoiceSelectionParams(\n",
    "    language_code=\"pl-PL\", name=\"pl-PL-Wavenet-B\"\n",
    ")\n",
    "\n",
    "audio_config = texttospeech.AudioConfig(\n",
    "    audio_encoding=texttospeech.AudioEncoding.MP3\n",
    ")\n",
    "\n",
    "for file in os.listdir(output_path):\n",
    "    sm_pth = os.path.join(output_path, file)\n",
    "    if os.path.isfile(sm_pth):\n",
    "        with open(sm_pth) as f:\n",
    "            text = f.read()\n",
    "            input_text = texttospeech.SynthesisInput(text=text)\n",
    "\n",
    "    response = client.synthesize_speech(\n",
    "        request={\"input\": input_text, \"voice\": voice, \"audio_config\": audio_config}\n",
    "    )\n",
    "    concat = os.path.join(output_path,file) + \".mp3\"\n",
    "    with open(concat, \"wb\") as out:\n",
    "        out.write(response.audio_content)"
   ]
  },
  {
   "cell_type": "code",
   "execution_count": 9,
   "id": "e84c3a35-7245-4ed3-a2a3-f38d7cc49003",
   "metadata": {},
   "outputs": [
    {
     "name": "stdout",
     "output_type": "stream",
     "text": [
      "Audio content written to file \"output.mp3\"\n"
     ]
    }
   ],
   "source": [
    "#PLAYGROUND\n",
    "out = '/home/jakubg/venvs/gcloud'\n",
    "text = 'Czymże jest los jednego Miasta, gdy cały świat jest zagrożony'\n",
    "synthesis_input = texttospeech.SynthesisInput(text=text)\n",
    "\n",
    "voice = texttospeech.VoiceSelectionParams(\n",
    "    language_code=\"pl-PL\", \n",
    "    ssml_gender=texttospeech.SsmlVoiceGender.MALE,\n",
    "    name=\"pl-PL-Wavenet-B\"\n",
    ")\n",
    "audio_config = texttospeech.AudioConfig(\n",
    "    audio_encoding=texttospeech.AudioEncoding.MP3\n",
    ")\n",
    "response = client.synthesize_speech(\n",
    "    input=synthesis_input, voice=voice, audio_config=audio_config\n",
    ")\n",
    "with open(os.path.join(out,\"test.mp3\"), \"wb\") as out:\n",
    "    # Write the response to the output file.\n",
    "    out.write(response.audio_content)\n",
    "    print('Audio content written to file \"output.mp3\"')"
   ]
  },
  {
   "cell_type": "code",
   "execution_count": 43,
   "id": "83bae464-e171-4413-b0a5-b7a5bcb33876",
   "metadata": {
    "scrolled": true
   },
   "outputs": [
    {
     "name": "stdout",
     "output_type": "stream",
     "text": [
      "pl-PL-Standard-A ['pl-PL']\n",
      "pl-PL-Standard-B ['pl-PL']\n",
      "pl-PL-Standard-C ['pl-PL']\n",
      "pl-PL-Standard-E ['pl-PL']\n",
      "pl-PL-Standard-D ['pl-PL']\n",
      "pl-PL-Wavenet-A ['pl-PL']\n",
      "pl-PL-Wavenet-B ['pl-PL']\n",
      "pl-PL-Wavenet-C ['pl-PL']\n",
      "pl-PL-Wavenet-E ['pl-PL']\n",
      "pl-PL-Wavenet-D ['pl-PL']\n",
      "pl-PL-Standard-A ['pl-PL']\n",
      "pl-PL-Standard-B ['pl-PL']\n",
      "pl-PL-Standard-C ['pl-PL']\n",
      "pl-PL-Standard-D ['pl-PL']\n",
      "pl-PL-Standard-E ['pl-PL']\n"
     ]
    }
   ],
   "source": [
    "voices = client.list_voices()\n",
    "string = \"pl-PL\"\n",
    "for voice in voices.voices:\n",
    "    if string in voice.name:\n",
    "        print(voice.name, voice.language_codes)"
   ]
  }
 ],
 "metadata": {
  "kernelspec": {
   "display_name": "cloud",
   "language": "python",
   "name": "cloud"
  },
  "language_info": {
   "codemirror_mode": {
    "name": "ipython",
    "version": 3
   },
   "file_extension": ".py",
   "mimetype": "text/x-python",
   "name": "python",
   "nbconvert_exporter": "python",
   "pygments_lexer": "ipython3",
   "version": "3.10.12"
  }
 },
 "nbformat": 4,
 "nbformat_minor": 5
}
